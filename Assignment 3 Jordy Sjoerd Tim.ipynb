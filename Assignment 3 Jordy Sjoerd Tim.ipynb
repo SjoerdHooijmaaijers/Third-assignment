{
 "cells": [
  {
   "cell_type": "markdown",
   "metadata": {},
   "source": [
    "# Assignment 3"
   ]
  },
  {
   "cell_type": "code",
   "execution_count": 1,
   "metadata": {
    "collapsed": true
   },
   "outputs": [],
   "source": [
    "# We are aware the names should be put in the first cell.\n",
    "# But to make the table with our name,ANR and email we need to import this first.\n",
    "from ipy_table import *  # External python code, used to make tables. \n",
    "# Other python files in the same folder as this file are used to keep this file clean.\n",
    "from __future__ import division\n",
    "from numpy import *\n",
    "from operator import *\n",
    "import matplotlib.pyplot as plt\n",
    "from scipy import optimize, arange\n",
    "from operator import add\n",
    "%matplotlib inline"
   ]
  },
  {
   "cell_type": "code",
   "execution_count": 2,
   "metadata": {
    "collapsed": false
   },
   "outputs": [
    {
     "data": {
      "text/html": [
       "<table border=\"1\" cellpadding=\"3\" cellspacing=\"0\"  style=\"border:1px solid black;border-collapse:collapse;\"><tr><td  style=\"background-color:lightGreen;border-bottom: 3px solid black;\"><b>Name</b></td><td  style=\"background-color:lightGreen;border-bottom: 3px solid black;\"><b>ANR</b></td><td  style=\"background-color:lightGreen;border-bottom: 3px solid black;\"><b>email</b></td></tr><tr><td  style=\"border-top: 3px solid black;\">1.&nbspJordy&nbspDuits</td><td  style=\"border-top: 3px solid black;\">489542</td><td  style=\"border-top: 3px solid black;\">J.Duits@uvt.nl</td></tr><tr><td>2.&nbspSjoerd&nbspHooijmaaijers</td><td>496687</td><td>S.H.N.A.Hooijmaaijers@uvt.nl</td></tr><tr><td>3.&nbspTim&nbspSchrama</td><td>249525</td><td>T.H.G.Schrama@uvt.nl</td></tr></table>"
      ],
      "text/plain": [
       "<ipy_table.IpyTable at 0x12e02588>"
      ]
     },
     "execution_count": 2,
     "metadata": {},
     "output_type": "execute_result"
    }
   ],
   "source": [
    "Names = [\n",
    "['Name', 'ANR', 'email'],\n",
    "['1. Jordy Duits', '489542', 'J.Duits@uvt.nl'],    \n",
    "['2. Sjoerd Hooijmaaijers', '496687', 'S.H.N.A.Hooijmaaijers@uvt.nl'],\n",
    "['3. Tim Schrama', '249525', 'T.H.G.Schrama@uvt.nl']];\n",
    "make_table(Names)\n",
    "set_row_style(0, color='lightGreen', bold=True, thick_border='bottom')"
   ]
  },
  {
   "cell_type": "markdown",
   "metadata": {},
   "source": [
    "# Introduction\n",
    "\n",
    "During our study in economics we had to solve several competition models, from Bertrand to Stackelberg leadership and from monopoly to perfect competition. Many other economists, especially those specialized in competition, will agree with us that this takes a lot of time. Moreover, it is also very vulnerable for small calculation errors.\n",
    "Since competition authorities have to work with these kinds of models on a nearly daily basis, we thought it might be helpful to solve these models in a computer program, such that we only have to fill out some parameters and the computer will do the rest. In this report we will try to establish a simple model. We will focus on an upstream and downstream market, since via this way we can model a [Bertrand](https://en.wikipedia.org/wiki/Bertrand_competition) (upstream) combined with a [Cournot](https://en.wikipedia.org/wiki/Cournot_competition) (downstream) competition. \n",
    "\n",
    "This will be useful for the competition authority, since if they only have one of the markets, they can set the other one equal to zero.\n",
    "As an example market we will use the plane industry. The plane industry is characterized by an upstream and downstream market. The upstream market is characterized by duopoly competition (Boeing, Airbus), while the downstream market is characterized by perfect competition.In this assignment, we will examine what the effects will be if the market environment changes on prices and firm profits in both the upstream and downstream markets, as well as on consumer surplus and total welfare.However, as we think that the duopoly structure of the upstream market is in reality characterized by Bertrand competition (price setting), the implication is that there is no actual difference between the Bertrand competition case and the perfect competition case. As a result, we will only consider three scenarios, as shown in table 1.\n",
    "\n",
    "The main focus of this research is to find the social optimum in an upstream and downstream market.\n",
    "We will make the distinction between an upstream [monopolist](https://en.wikipedia.org/wiki/Monopoly) facing a downstream monopolist or a [perfect competition](https://en.wikipedia.org/wiki/Perfect_competition). We will also show the market outcomes for an upstream perfect competition facing a downstream perfect competition. We discarded the duopoly in the upstream from the analysis; since in a [Bertrand competition](https://en.wikipedia.org/wiki/Bertrand_competition) the market outcomes are the same as in perfect competition. We will solve these models via python and provide the market outcomes in the general discussion.\n",
    "\n",
    "### Table of contents\n",
    "* [Introduction](http://localhost:8888/notebooks/Dropbox/Ass3/Assignment%203%20Jordy%20Sjoerd%20Tim.ipynb#Introduction)\n",
    "* [Assumptions](http://localhost:8888/notebooks/Dropbox/Ass3/Assignment%203%20Jordy%20Sjoerd%20Tim.ipynb#Assumptions)\n",
    "* [Preview of results]()\n",
    "* [Setting 1](http://localhost:8888/notebooks/Dropbox/Ass3/Assignment%203%20Jordy%20Sjoerd%20Tim.ipynb#Setting-1)\n",
    "* [Setting 2](http://localhost:8888/notebooks/Dropbox/Ass3/Assignment%203%20Jordy%20Sjoerd%20Tim.ipynb#Setting-2)\n",
    "* [Setting 3](http://localhost:8888/notebooks/Dropbox/Ass3/Assignment%203%20Jordy%20Sjoerd%20Tim.ipynb#Setting-3)\n",
    "* [Summarised results](http://localhost:8888/notebooks/Dropbox/Ass3/Assignment%203%20Jordy%20Sjoerd%20Tim.ipynb#Summarised-results)\n",
    "* [Conclusion](http://localhost:8888/notebooks/Dropbox/Ass3/Assignment%203%20Jordy%20Sjoerd%20Tim.ipynb#Conclusion)\n",
    "\n",
    "Only after uploading to git we found out that we needed to convert our file into .html to make internal links like these possible. Hence, these links are faulty and only result to 404 errors.\n",
    "\n",
    "### Assumptions\n",
    "We simplified the demand to $P=1-\\sum\\limits_{i=1}^n q_i$ where $ i \\in \\{1,2,\\dots,n\\} $ Furthermore we assumed zero or low cost.\n",
    "For the model specifics we assumed homogeneous products and full information. \n",
    "Also, we have assumed that there are no externalities.\n",
    "\n",
    "### preview of results\n",
    "Preview\n",
    "Economic theory that in a normal market without externalities perfect competition is always the preferred market structure, as it maximizes social welfare. The other extreme is a monopolistic market structure, where the monopolist maximizes its own profits. As a result, the firm will set a higher price than its marginal costs, and market demand will be lower than under perfect competition. Consequently, there will be a deadweight loss. Consequently, we predict that full competition in both the upstream and downstream markets maximizes social welfare, as it results in the lowest price (= marginal costs downstream firm + the input costs of the downstream firm = marginal costs of downstream firm + the marginal cost of the upstream firm) and thus results in the highest total output. Market structures that fall in between will lead to a social welfare that lies in between of these two extremes.\n",
    "\n"
   ]
  },
  {
   "cell_type": "code",
   "execution_count": 3,
   "metadata": {
    "collapsed": false
   },
   "outputs": [
    {
     "data": {
      "text/html": [
       "<table border=\"1\" cellpadding=\"3\" cellspacing=\"0\"  style=\"border:1px solid black;border-collapse:collapse;\"><tr><td  style=\"background-color:lightGreen;border-bottom: 3px solid black;\"><b>Upstream</b></td><td  style=\"background-color:lightGreen;border-bottom: 3px solid black;\"><b>Downstream</b></td></tr><tr><td  style=\"background-color:yellow;border-top: 3px solid black;\">Monopolist</td><td  style=\"background-color:yellow;border-top: 3px solid black;\">Monopolist</td></tr><tr><td  style=\"background-color:yellow;\">Monopolist</td><td  style=\"background-color:Pink;\">Perf.&nbspcompetition</td></tr><tr><td  style=\"background-color:Pink;\">Perf.&nbspcompetition</td><td  style=\"background-color:Pink;\">Perf.&nbspcompetition</td></tr></table>"
      ],
      "text/plain": [
       "<ipy_table.IpyTable at 0x12e02f60>"
      ]
     },
     "execution_count": 3,
     "metadata": {},
     "output_type": "execute_result"
    }
   ],
   "source": [
    "\n",
    "Idea = [\n",
    "['Upstream', 'Downstream'],\n",
    "['Monopolist', 'Monopolist'],    \n",
    "['Monopolist', 'Perf. competition'],\n",
    "['Perf. competition', 'Perf. competition']];\n",
    "make_table(Idea)\n",
    "set_row_style(0, color='lightGreen', bold=True, thick_border='bottom')\n",
    "set_cell_style(1, 0, color='yellow')\n",
    "set_cell_style(1, 1, color='yellow')\n",
    "set_cell_style(2, 0, color='yellow')\n",
    "set_cell_style(2, 1, color='Pink')\n",
    "set_cell_style(3, 0, color='Pink')\n",
    "set_cell_style(3, 1, color='Pink')\n",
    "\n",
    "\n"
   ]
  },
  {
   "cell_type": "markdown",
   "metadata": {},
   "source": [
    "# Setting 1\n",
    "## Upstream: Monopoly\n",
    "## Downstream: Monopoly"
   ]
  },
  {
   "cell_type": "code",
   "execution_count": 4,
   "metadata": {
    "collapsed": false
   },
   "outputs": [
    {
     "name": "stdout",
     "output_type": "stream",
     "text": [
      "The optimal wholesale price is 0.5\n",
      "Hence, the quantity sold is 0.25\n",
      "Resulting in a profit for the upstream firm of 0.125\n",
      "And a profit for the downstream firm of 0.0625\n",
      "The consumer surplus at these levels is 0.03125\n",
      "Summing all together, results in a total welfare of 0.21875\n",
      "-------------\n",
      "Now we change the costs, to see what will change in such a case\n",
      "The optimal wholesale price is 0.5\n",
      "Hence, the quantity sold is 0.2\n",
      "Resulting in a profit for the upstream firm of 0.08\n",
      "And a profit for the downstream firm of 0.04\n",
      "The consumer surplus at these levels is 0.02\n",
      "Summing all together, results in a total welfare of 0.14\n"
     ]
    }
   ],
   "source": [
    "#Downstream and upstream monopolist\n",
    "\n",
    "def demand(q):\n",
    "    return 1-q\n",
    "\n",
    "\n",
    "\n",
    "# We define our demand function as 1-q\n",
    "\n",
    "def profit_upstream(q,W,cU):\n",
    "    return (W-cU)*q\n",
    "\n",
    "# The profit of the upstream firm is the wholesale price it charges the downstream firm, \n",
    "# minus the production costs - both multiplied by the quantity.\n",
    "def profit_downstream(q,W,cD):\n",
    "    return (demand(q)-cD-W)*q\n",
    "\n",
    "# The profit of the downstream firm is the price it charges its customers, denoted by \"demand(q)\"\n",
    "# The production costs, cD, and the wholesaleprice it has to pay to the upstream firm \n",
    "# are deducted from the price to the market.\n",
    "cU = 0 \n",
    "cD = 0 \n",
    "# For now, for simplicity we assume that marginal costs of production for both the upstream and downstream are zero.\n",
    "\n",
    "def q(W,cD):\n",
    "    q = optimize.fminbound(lambda x, W=W, cD=cD: -profit_downstream(x,W,cD),0,1,full_output=1)\n",
    "    return q[0]\n",
    "\n",
    "\n",
    "# First, we optimise the optimal amount that the downstream firm sells to the market\n",
    "\n",
    "def W(cU):\n",
    "    W = optimize.fminbound(lambda x, cU=cU: -profit_upstream(q(x,cD),x,cU),0,1,full_output=1)\n",
    "    return W[0]\n",
    "\n",
    "\n",
    "# Then we solve for the maximum profit of the downstream firm, \n",
    "# in which W - the price at which the upstream firm sells - remains as a variable\n",
    "\n",
    "print \"The optimal wholesale price is\", W(0)\n",
    "print \"Hence, the quantity sold is\", q(0.5,0)\n",
    "\n",
    "print \"Resulting in a profit for the upstream firm of\", profit_upstream(0.25,0.5,0)\n",
    "print \"And a profit for the downstream firm of\", profit_downstream(0.25,0.5,0)\n",
    "\n",
    "def consumersurplus(q):\n",
    "    consumersurplus = (q*q)/2\n",
    "    return consumersurplus\n",
    "print \"The consumer surplus at these levels is\", consumersurplus(0.25)\n",
    "\n",
    "def total_welfare(q):\n",
    "    total_welfare = consumersurplus(q) + profit_upstream(q,0.5,0) + profit_downstream(q,0.5,0)\n",
    "    return total_welfare\n",
    "\n",
    "print \"Summing all together, results in a total welfare of\", total_welfare(0.25)\n",
    "\n",
    "print \"-------------\"\n",
    "print \"Now we change the costs, to see what will change in such a case\"\n",
    "cD = 0.1\n",
    "cU = 0.1\n",
    "\n",
    "print \"The optimal wholesale price is\", W(0.1)\n",
    "print \"Hence, the quantity sold is\", q(0.5,0.1)\n",
    "\n",
    "print \"Resulting in a profit for the upstream firm of\", profit_upstream(0.2,0.5,0.1)\n",
    "print \"And a profit for the downstream firm of\", profit_downstream(0.2,0.5,0.1)\n",
    "print \"The consumer surplus at these levels is\", consumersurplus(0.2)\n",
    "def total_welfare(q):\n",
    "    total_welfare = consumersurplus(q) + profit_upstream(q,0.5,0.1) + profit_downstream(q,0.5,0.1)\n",
    "    return total_welfare\n",
    "print \"Summing all together, results in a total welfare of\", total_welfare(0.2)"
   ]
  },
  {
   "cell_type": "code",
   "execution_count": 5,
   "metadata": {
    "collapsed": false
   },
   "outputs": [
    {
     "data": {
      "text/plain": [
       "(-0.5, 1)"
      ]
     },
     "execution_count": 5,
     "metadata": {},
     "output_type": "execute_result"
    },
    {
     "data": {
      "image/png": "[encoded data removed]",
      "text/plain": [
       "<matplotlib.figure.Figure at 0x12def780>"
      ]
     },
     "metadata": {},
     "output_type": "display_data"
    }
   ],
   "source": [
    "range_q = arange(0.0,1.0,0.01)\n",
    "\n",
    "# For convenience, we plot what would be the surpluses/profits for each quantity in the situation as described above\n",
    "# Bear in mind, in this case production costs for both firms are assumed to be zero\n",
    "plt.clf()\n",
    "plt.plot(range_q, profit_upstream(range_q,0.5,0), '-', color = 'r', linewidth = 2, label = 'profit upstream')\n",
    "plt.plot(range_q, profit_downstream(range_q,0.5,0), '-', color = 'b', linewidth = 2, label = 'profit downstream')\n",
    "plt.plot(range_q, consumersurplus(range_q), '-', color = 'g', linewidth = 2, label = 'consumersurplus')\n",
    "plt.plot(range_q, total_welfare(range_q), '-', color = 'm', linewidth = 2, label = 'total welfare')\n",
    "legend = plt.legend(loc= 'upper left' )\n",
    "plt.title(\"Surplus\",fontsize = 15)\n",
    "plt.xlabel(\"Quantity\",fontsize = 15)\n",
    "plt.ylabel(\"Surplus\",fontsize = 15,rotation = 90)\n",
    "plt.xlim(0.0,1.1)\n",
    "plt.ylim(-0.5,1)"
   ]
  },
  {
   "cell_type": "markdown",
   "metadata": {},
   "source": [
    "# Setting 2\n",
    "## Upstream: Monopolist\n",
    "## Downstream: Perfect competition"
   ]
  },
  {
   "cell_type": "code",
   "execution_count": 6,
   "metadata": {
    "collapsed": false
   },
   "outputs": [
    {
     "name": "stdout",
     "output_type": "stream",
     "text": [
      "The optimal wholesale price is 0.5\n",
      "Hence, the quantity sold is 0.5\n",
      "Resulting in a profit for the upstream firm of 0.25\n",
      "And a profit for the downstream market of 0.0\n",
      "The consumer surplus now is 0.125\n",
      "Summing all together, total welfare is 0.375\n",
      "-------------\n",
      "Now we change the costs, to see what will change in such a case\n",
      "The optimal wholesale price is 0.5\n",
      "Hence, the quantity sold is 0.4\n",
      "Resulting in a profit for the upstream firm of 0.16\n",
      "And a profit for the downstream market of 0.0\n",
      "The consumer surplus now is 0.08\n",
      "Summing all together, total welfare is 0.24\n"
     ]
    }
   ],
   "source": [
    "def demand(q):\n",
    "    return 1-q\n",
    "\n",
    "# Upstream firm produces the requested q by the upstream.\n",
    "\n",
    "# We define our demand function as 1-q\n",
    "\n",
    "def profit_upstream(q,W,cU):\n",
    "    return (W-cU)*q\n",
    "# Unaltered compared to the initial case\n",
    "def profit_downstream(q,W,cD): \n",
    "    # Because there is perfect competition in the downstream, \n",
    "    # the price the downstream firms charge is equal to its marginal costs.\n",
    "    # Its marginal costs are its costs from producing, cD, and the price it has to pay the upstream firm W.\n",
    "    return ((cD+W)-(cD+W))*q\n",
    "\n",
    "cU = 0 \n",
    "cD = 0 \n",
    "# Again, we assume production costs for both upstream and downstream firms to be zero\n",
    "def q(W,cD):\n",
    "    return 1-(W+cD)\n",
    "# Since the downstream market is now perfect competition, they will make zero profit, and will pay a 'price' of 'W+cD'\n",
    "# Hence, the quantity sold is 1 minus the price. \n",
    "\n",
    "def W(cU):\n",
    "    W = optimize.fminbound(lambda x, cU=cU: -profit_upstream(q(x,cD),x,cU),0,1,full_output=1)\n",
    "    return W[0]\n",
    "\n",
    "# Thus we solve for the maximum profit of the downstream firm, \n",
    "# in which W - the price at which the upstream firm sells - remains as a variable\n",
    "\n",
    "print \"The optimal wholesale price is\", W(0)\n",
    "print \"Hence, the quantity sold is\", q(0.5,0)\n",
    "\n",
    "print \"Resulting in a profit for the upstream firm of\", profit_upstream(0.5,0.5,0)\n",
    "print \"And a profit for the downstream market of\", profit_downstream(0.5,0.5,0)\n",
    "\n",
    "print \"The consumer surplus now is\", consumersurplus(0.5)\n",
    "def total_welfare(q):\n",
    "    total_welfare = consumersurplus(q) + profit_upstream(q,0.5,0) + profit_downstream(q,0.5,0)\n",
    "    return total_welfare\n",
    "print \"Summing all together, total welfare is\", total_welfare(0.5)\n",
    "\n",
    "print \"-------------\"\n",
    "print \"Now we change the costs, to see what will change in such a case\"\n",
    "cD = 0.1\n",
    "cU = 0.1\n",
    "\n",
    "def total_welfare(q):\n",
    "    total_welfare = consumersurplus(q) + profit_upstream(q,0.5,0.1) + profit_downstream(q,0.5,0.1)\n",
    "    return total_welfare\n",
    "print \"The optimal wholesale price is\", W(0.1)\n",
    "print \"Hence, the quantity sold is\", q(0.5,0.1)\n",
    "\n",
    "print \"Resulting in a profit for the upstream firm of\", profit_upstream(0.4,0.5,0.1)\n",
    "print \"And a profit for the downstream market of\", profit_downstream(0.4,0.5,0.1)\n",
    "print \"The consumer surplus now is\", consumersurplus(0.4)\n",
    "print \"Summing all together, total welfare is\", total_welfare(0.4)"
   ]
  },
  {
   "cell_type": "code",
   "execution_count": 7,
   "metadata": {
    "collapsed": false
   },
   "outputs": [
    {
     "data": {
      "text/plain": [
       "(-0.5, 1)"
      ]
     },
     "execution_count": 7,
     "metadata": {},
     "output_type": "execute_result"
    },
    {
     "data": {
      "image/png": "[encoded data removed]",
      "text/plain": [
       "<matplotlib.figure.Figure at 0x12e4d080>"
      ]
     },
     "metadata": {},
     "output_type": "display_data"
    }
   ],
   "source": [
    "range_q = arange(0.0,1.0,0.01)\n",
    "\n",
    "# Again, the same graph depicting the new situations.\n",
    "# This graph assumes that cD and cU are zero\n",
    "plt.clf()\n",
    "plt.plot(range_q, profit_upstream(range_q,0.5,0), '-', color = 'r', linewidth = 2, label = 'profit upstream')\n",
    "plt.plot(range_q, profit_downstream(range_q,0.5,0), '-', color = 'b', linewidth = 2, label = 'profit downstream')\n",
    "plt.plot(range_q, consumersurplus(range_q), '-', color = 'g', linewidth = 2, label = 'consumersurplus')\n",
    "plt.plot(range_q, total_welfare(range_q), '-', color = 'm', linewidth = 2, label = 'total welfare')\n",
    "legend = plt.legend(loc= 'upper left' )\n",
    "plt.title(\"Surplus\",fontsize = 15)\n",
    "plt.xlabel(\"Quantity\",fontsize = 15)\n",
    "plt.ylabel(\"Surplus\",fontsize = 15,rotation = 90)\n",
    "plt.xlim(0.0,1.1)\n",
    "plt.ylim(-0.5,1)"
   ]
  },
  {
   "cell_type": "markdown",
   "metadata": {},
   "source": [
    "# Setting 3\n",
    "## Upstream Perfect Competition\n",
    "## Downstream Perfect Competition"
   ]
  },
  {
   "cell_type": "code",
   "execution_count": 8,
   "metadata": {
    "collapsed": false
   },
   "outputs": [
    {
     "name": "stdout",
     "output_type": "stream",
     "text": [
      "The optimal wholesale price is 0\n",
      "Hence, the quantity sold is 1\n",
      "Resulting in a profit for the upstream firm of 0\n",
      "And a profit for the downstream market of 0\n",
      "The consumer surplus now is 0.5\n",
      "Summing all together, total welfare is 0.5\n",
      "-------------\n",
      "Now, to see what happens when costs of producing for both up- and downstream firms increases to 0.1\n",
      "The optimal wholesale price is 0.1\n",
      "Hence, the quantity sold is 0.8\n",
      "Resulting in a profit for the upstream firm of 0.0\n",
      "And a profit for the downstream market of 0.0\n",
      "The consumer surplus now is 0.32\n",
      "Summing all together, total welfare is 0.32\n"
     ]
    }
   ],
   "source": [
    "#Downstream PC; U=PC\n",
    "\n",
    "def demand(q):\n",
    "    return 1-q\n",
    "\n",
    "# Upstream firm produces the requested q by the upstream.\n",
    "\n",
    "# We define our demand function as 1-q\n",
    "\n",
    "def profit_upstream(q,W,cU):\n",
    "    return (W-cU)*q\n",
    "\n",
    "def profit_downstream(q,W,cD): \n",
    "    # Because there is perfect competition in the downstream, \n",
    "    # the price the downstream firms charge is equal to its marginal costs.\n",
    "    # Its marginal costs are its costs from producing, cD, and the price it has to pay the upstream firm W.\n",
    "    return ((cD+W)-(cD+W))*q\n",
    "\n",
    "cU = 0 \n",
    "cD = 0 \n",
    "\n",
    "def q(W,cD):\n",
    "    return 1-(W+cD)\n",
    "\n",
    "# The optimal price a downstream firm charges is equal to its total costs of W+cD, the quantity is 1 minus this price.\n",
    "def W(cU):\n",
    "    W = cU\n",
    "    return W\n",
    "\n",
    "# The optimal price for an individual upstream firm is equal to its costs, which are zero.\n",
    "\n",
    "\n",
    "print \"The optimal wholesale price is\", W(0)\n",
    "print \"Hence, the quantity sold is\", q(0,0)\n",
    "\n",
    "print \"Resulting in a profit for the upstream firm of\", profit_upstream(1,0,0)\n",
    "print \"And a profit for the downstream market of\", profit_downstream(1,0,0)\n",
    "\n",
    "print \"The consumer surplus now is\", consumersurplus(1)\n",
    "def total_welfare(q):\n",
    "    total_welfare = consumersurplus(q) + profit_upstream(q,0,0) + profit_downstream(q,0,0)\n",
    "    return total_welfare\n",
    "print \"Summing all together, total welfare is\", total_welfare(1)\n",
    "print \"-------------\"\n",
    "print \"Now, to see what happens when costs of producing for both up- and downstream firms increases to 0.1\"\n",
    "cD = 0.1\n",
    "cU = 0.1\n",
    "\n",
    "\n",
    "print \"The optimal wholesale price is\", W(0.1)\n",
    "print \"Hence, the quantity sold is\", q(0.1,0.1)\n",
    "def total_welfare(q):\n",
    "    total_welfare = consumersurplus(q) + profit_upstream(q,0.1,0.1) + profit_downstream(q,0.1,0.1)\n",
    "    return total_welfare\n",
    "print \"Resulting in a profit for the upstream firm of\", profit_upstream(0.8,0.1,0.1)\n",
    "print \"And a profit for the downstream market of\", profit_downstream(0.8,0.1,0.1)\n",
    "print \"The consumer surplus now is\", consumersurplus(0.8)\n",
    "print \"Summing all together, total welfare is\", total_welfare(0.8)"
   ]
  },
  {
   "cell_type": "code",
   "execution_count": 9,
   "metadata": {
    "collapsed": false
   },
   "outputs": [
    {
     "data": {
      "text/plain": [
       "(-0.5, 1)"
      ]
     },
     "execution_count": 9,
     "metadata": {},
     "output_type": "execute_result"
    },
    {
     "data": {
      "image/png": "[encoded data removed]",
      "text/plain": [
       "<matplotlib.figure.Figure at 0x38512e8>"
      ]
     },
     "metadata": {},
     "output_type": "display_data"
    }
   ],
   "source": [
    "range_q = arange(0.0,1.0,0.01)\n",
    "\n",
    "# Again, a graph depicting the scenario.\n",
    "plt.clf()\n",
    "plt.plot(range_q, profit_upstream(range_q,0,0), '-', color = 'r', linewidth = 2, label = 'profit upstream')\n",
    "plt.plot(range_q, profit_downstream(range_q,0,0), '--', color = 'b', linewidth = 2, label = 'profit downstream')\n",
    "plt.plot(range_q, consumersurplus(range_q), '-', color = 'g', linewidth = 2, label = 'consumersurplus')\n",
    "plt.plot(range_q, total_welfare(range_q), '-', color = 'm', linewidth = 2, label = 'total welfare')\n",
    "legend = plt.legend(loc= 'upper left' )\n",
    "plt.title(\"Surplus\",fontsize = 15)\n",
    "plt.xlabel(\"Quantity\",fontsize = 15)\n",
    "plt.ylabel(\"Surplus\",fontsize = 15,rotation = 9)\n",
    "plt.xlim(0.0,1.1)\n",
    "plt.ylim(-0.5,1)"
   ]
  },
  {
   "cell_type": "markdown",
   "metadata": {
    "collapsed": true
   },
   "source": [
    "# Summarised results"
   ]
  },
  {
   "cell_type": "code",
   "execution_count": 10,
   "metadata": {
    "collapsed": false
   },
   "outputs": [
    {
     "name": "stdout",
     "output_type": "stream",
     "text": [
      "table 2\n"
     ]
    },
    {
     "data": {
      "text/html": [
       "<table border=\"1\" cellpadding=\"3\" cellspacing=\"0\"  style=\"border:1px solid black;border-collapse:collapse;\"><tr><td  style=\"background-color:white;border-left: 1px solid transparent;border-top: 1px solid transparent;\"><b>Cu&nbsp&&nbspCd&nbsp=&nbsp0</b></td><td  style=\"background-color:SkyBlue;\"><b>Mono-Mono</b></td><td  style=\"background-color:SkyBlue;\"><b>Mono-PC</b></td><td  style=\"background-color:SkyBlue;\"><b>PC-PC</b></td></tr><tr><td  style=\"background-color:SkyBlue;\"><b>Wholesale&nbspPrice</b></td><td  style=\"background-color:LightCyan;\">0.5</td><td  style=\"background-color:LightCyan;\">0.5</td><td  style=\"background-color:LightCyan;\">0.0</td></tr><tr><td  style=\"background-color:SkyBlue;\"><b>Quantity</b></td><td  style=\"background-color:LightCyan;\">0.25</td><td  style=\"background-color:LightCyan;\">0.5</td><td  style=\"background-color:PaleGreen;\">1</td></tr><tr><td  style=\"background-color:SkyBlue;\"><b>Upstream&nbspprofit</b></td><td  style=\"background-color:LightCyan;\">0.125</td><td  style=\"background-color:PaleGreen;\">0.25</td><td  style=\"background-color:LightCyan;\">0.0</td></tr><tr><td  style=\"background-color:SkyBlue;\"><b>Downstream&nbspprofit</b></td><td  style=\"background-color:PaleGreen;\">0.0625</td><td  style=\"background-color:LightCyan;\">0.0</td><td  style=\"background-color:LightCyan;\">0.0</td></tr><tr><td  style=\"background-color:SkyBlue;\"><b>Consumer&nbspSurplus</b></td><td  style=\"background-color:LightCyan;\">0.03125</td><td  style=\"background-color:LightCyan;\">0.125</td><td  style=\"background-color:PaleGreen;\">0.5</td></tr><tr><td  style=\"background-color:SkyBlue;\"><b>Total&nbspSurplus</b></td><td  style=\"background-color:LightCyan;\">0.21875</td><td  style=\"background-color:LightCyan;\">0.325</td><td  style=\"background-color:PaleGreen;\">0.5</td></tr></table>"
      ],
      "text/plain": [
       "<ipy_table.IpyTable at 0x133880b8>"
      ]
     },
     "execution_count": 10,
     "metadata": {},
     "output_type": "execute_result"
    }
   ],
   "source": [
    "print 'table 2'\n",
    "ResultNoCost = [\n",
    "['Cu & Cd = 0', 'Mono-Mono', 'Mono-PC', 'PC-PC'],\n",
    "['Wholesale Price', '0.5', '0.5', '0.0'],    \n",
    "['Quantity', '0.25', '0.5', '1'], \n",
    "['Upstream profit', '0.125', '0.25', '0.0'], \n",
    "['Downstream profit', '0.0625', '0.0', '0.0'], \n",
    "['Consumer Surplus', '0.03125', '0.125', '0.5'], \n",
    "['Total Surplus', '0.21875', '0.325', '0.5']]; \n",
    "\n",
    "make_table(ResultNoCost)\n",
    "apply_theme('basic_both')\n",
    "set_global_style(color='LightCyan')\n",
    "set_row_style(0, color='SkyBlue')\n",
    "set_column_style(0, color='SkyBlue')\n",
    "set_cell_style(0, 0, color='white')\n",
    "set_cell_style(2, 3, color='PaleGreen')\n",
    "set_cell_style(3, 2, color='PaleGreen')\n",
    "set_cell_style(4, 1, color='PaleGreen')\n",
    "set_cell_style(5, 3, color='PaleGreen')\n",
    "set_cell_style(6, 3, color='PaleGreen')\n",
    "\n"
   ]
  },
  {
   "cell_type": "markdown",
   "metadata": {},
   "source": [
    "In table 2 above we can see the results for when costs are zero.\n",
    "\n",
    "In table 3 below we see the results for when both upstream and downstream production costs are 0.1\n"
   ]
  },
  {
   "cell_type": "code",
   "execution_count": 11,
   "metadata": {
    "collapsed": false
   },
   "outputs": [
    {
     "name": "stdout",
     "output_type": "stream",
     "text": [
      "Table 3\n"
     ]
    },
    {
     "data": {
      "text/html": [
       "<table border=\"1\" cellpadding=\"3\" cellspacing=\"0\"  style=\"border:1px solid black;border-collapse:collapse;\"><tr><td  style=\"background-color:white;border-left: 1px solid transparent;border-top: 1px solid transparent;\"><b>Cu&nbsp&&nbspCd&nbsp=&nbsp0.1</b></td><td  style=\"background-color:Salmon;\"><b>Mono-Mono</b></td><td  style=\"background-color:Salmon;\"><b>Mono-PC</b></td><td  style=\"background-color:Salmon;\"><b>PC-PC</b></td></tr><tr><td  style=\"background-color:Salmon;\"><b>Wholesale&nbspPrice</b></td><td  style=\"background-color:LightPink;\">0.5</td><td  style=\"background-color:LightPink;\">0.5</td><td  style=\"background-color:LightPink;\">0.1</td></tr><tr><td  style=\"background-color:Salmon;\"><b>Quantity</b></td><td  style=\"background-color:LightPink;\">0.2</td><td  style=\"background-color:LightPink;\">0.4</td><td  style=\"background-color:HotPink;\">0.8</td></tr><tr><td  style=\"background-color:Salmon;\"><b>Upstream&nbspprofit</b></td><td  style=\"background-color:LightPink;\">0.08</td><td  style=\"background-color:HotPink;\">0.16</td><td  style=\"background-color:LightPink;\">0.0</td></tr><tr><td  style=\"background-color:Salmon;\"><b>Downstream&nbspprofit</b></td><td  style=\"background-color:HotPink;\">0.04</td><td  style=\"background-color:LightPink;\">0.0</td><td  style=\"background-color:LightPink;\">0.0</td></tr><tr><td  style=\"background-color:Salmon;\"><b>Consumer&nbspSurplus</b></td><td  style=\"background-color:LightPink;\">0.02</td><td  style=\"background-color:LightPink;\">0.08</td><td  style=\"background-color:HotPink;\">0.32</td></tr><tr><td  style=\"background-color:Salmon;\"><b>Total&nbspSurplus</b></td><td  style=\"background-color:LightPink;\">0.14</td><td  style=\"background-color:LightPink;\">0.24</td><td  style=\"background-color:HotPink;\">0.32</td></tr></table>"
      ],
      "text/plain": [
       "<ipy_table.IpyTable at 0x13498080>"
      ]
     },
     "execution_count": 11,
     "metadata": {},
     "output_type": "execute_result"
    }
   ],
   "source": [
    "print 'Table 3'\n",
    "ResultWithCost = [\n",
    "['Cu & Cd = 0.1', 'Mono-Mono', 'Mono-PC', 'PC-PC'],\n",
    "['Wholesale Price', '0.5', '0.5', '0.1'],    \n",
    "['Quantity', '0.2', '0.4', '0.8'], \n",
    "['Upstream profit', '0.08', '0.16', '0.0'], \n",
    "['Downstream profit', '0.04', '0.0', '0.0'], \n",
    "['Consumer Surplus', '0.02', '0.08', '0.32'], \n",
    "['Total Surplus', '0.14', '0.24', '0.32']];\n",
    "\n",
    "make_table(ResultWithCost)\n",
    "apply_theme('basic_both')\n",
    "set_global_style(color='LightPink')\n",
    "set_row_style(0, color='Salmon')\n",
    "set_column_style(0, color='Salmon')\n",
    "set_cell_style(0, 0, color='white')\n",
    "set_cell_style(2, 3, color='HotPink')\n",
    "set_cell_style(3, 2, color='HotPink')\n",
    "set_cell_style(4, 1, color='HotPink')\n",
    "set_cell_style(5, 3, color='HotPink')\n",
    "set_cell_style(6, 3, color='HotPink')"
   ]
  },
  {
   "cell_type": "markdown",
   "metadata": {
    "collapsed": true
   },
   "source": [
    "# Conclusion"
   ]
  },
  {
   "cell_type": "markdown",
   "metadata": {
    "collapsed": true
   },
   "source": [
    "The results clearly show what we expected in advance. The scenario in which there is perfect competition in both the upstream and downstream market maiximezes total welfare.\n",
    "For the airplane industry example, this means that the situation in which there is bertrand competition also maximizes total welfare."
   ]
  },
  {
   "cell_type": "code",
   "execution_count": null,
   "metadata": {
    "collapsed": true
   },
   "outputs": [],
   "source": []
  }
 ],
 "metadata": {
  "kernelspec": {
   "display_name": "Python 2",
   "language": "python",
   "name": "python2"
  },
  "language_info": {
   "codemirror_mode": {
    "name": "ipython",
    "version": 2
   },
   "file_extension": ".py",
   "mimetype": "text/x-python",
   "name": "python",
   "nbconvert_exporter": "python",
   "pygments_lexer": "ipython2",
   "version": "2.7.11"
  }
 },
 "nbformat": 4,
 "nbformat_minor": 0
}
